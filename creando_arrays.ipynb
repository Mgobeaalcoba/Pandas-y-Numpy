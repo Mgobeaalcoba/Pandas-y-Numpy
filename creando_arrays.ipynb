{
  "nbformat": 4,
  "nbformat_minor": 0,
  "metadata": {
    "colab": {
      "name": "creando arrays.ipynb",
      "provenance": [],
      "authorship_tag": "ABX9TyOm3tUuIe/J/kRgAJVWnebL",
      "include_colab_link": true
    },
    "kernelspec": {
      "name": "python3",
      "display_name": "Python 3"
    },
    "language_info": {
      "name": "python"
    }
  },
  "cells": [
    {
      "cell_type": "markdown",
      "metadata": {
        "id": "view-in-github",
        "colab_type": "text"
      },
      "source": [
        "<a href=\"https://colab.research.google.com/github/Mgobeaalcoba/Pandas-y-Numpy/blob/main/creando_arrays.ipynb\" target=\"_parent\"><img src=\"https://colab.research.google.com/assets/colab-badge.svg\" alt=\"Open In Colab\"/></a>"
      ]
    },
    {
      "cell_type": "code",
      "execution_count": 1,
      "metadata": {
        "id": "j1xW_bI1Rdrr"
      },
      "outputs": [],
      "source": [
        "import numpy as np"
      ]
    },
    {
      "cell_type": "code",
      "source": [
        "# Uso range de Python para armar listas si quiero\n",
        "list(range(0,10)) #Es una lista de python"
      ],
      "metadata": {
        "colab": {
          "base_uri": "https://localhost:8080/"
        },
        "id": "fNeNNlqERpO9",
        "outputId": "1b900a1d-ade3-4489-b3a8-fca6fa7d5ed7"
      },
      "execution_count": 2,
      "outputs": [
        {
          "output_type": "execute_result",
          "data": {
            "text/plain": [
              "[0, 1, 2, 3, 4, 5, 6, 7, 8, 9]"
            ]
          },
          "metadata": {},
          "execution_count": 2
        }
      ]
    },
    {
      "cell_type": "code",
      "source": [
        "#Puedo volverla array así:\n",
        "arr = np.array(list(range(0,10)))\n",
        "arr"
      ],
      "metadata": {
        "colab": {
          "base_uri": "https://localhost:8080/"
        },
        "id": "LYZWpyVhR3X9",
        "outputId": "d1223d91-e662-415e-b59d-4983cbf6d105"
      },
      "execution_count": 3,
      "outputs": [
        {
          "output_type": "execute_result",
          "data": {
            "text/plain": [
              "array([0, 1, 2, 3, 4, 5, 6, 7, 8, 9])"
            ]
          },
          "metadata": {},
          "execution_count": 3
        }
      ]
    },
    {
      "cell_type": "code",
      "source": [
        "#Pero tmb puedo hacerlo directamente desde Numpy así:\n",
        "arr = np.arange(0,20,2) # array de 0 19 de 2 en 2\n",
        "arr"
      ],
      "metadata": {
        "colab": {
          "base_uri": "https://localhost:8080/"
        },
        "id": "fFOi2GuhSBHb",
        "outputId": "a7426618-f455-44a6-aa6a-893be6483507"
      },
      "execution_count": 8,
      "outputs": [
        {
          "output_type": "execute_result",
          "data": {
            "text/plain": [
              "array([ 0,  2,  4,  6,  8, 10, 12, 14, 16, 18])"
            ]
          },
          "metadata": {},
          "execution_count": 8
        }
      ]
    },
    {
      "cell_type": "code",
      "source": [
        "# Otro metodo muy usado en ciencia de datos es np.zeros o np.one para crear estructuras vacias\n",
        "np.zeros(10)"
      ],
      "metadata": {
        "colab": {
          "base_uri": "https://localhost:8080/"
        },
        "id": "-pNnVYpySbu8",
        "outputId": "004797b3-570d-4fd6-adf6-cb8606f81fd2"
      },
      "execution_count": 9,
      "outputs": [
        {
          "output_type": "execute_result",
          "data": {
            "text/plain": [
              "array([0., 0., 0., 0., 0., 0., 0., 0., 0., 0.])"
            ]
          },
          "metadata": {},
          "execution_count": 9
        }
      ]
    },
    {
      "cell_type": "code",
      "source": [
        "np.ones((10,10))"
      ],
      "metadata": {
        "colab": {
          "base_uri": "https://localhost:8080/"
        },
        "id": "vYLwJcnxSnss",
        "outputId": "ac5ec410-c398-4e84-fd9b-259f8db70046"
      },
      "execution_count": 12,
      "outputs": [
        {
          "output_type": "execute_result",
          "data": {
            "text/plain": [
              "array([[1., 1., 1., 1., 1., 1., 1., 1., 1., 1.],\n",
              "       [1., 1., 1., 1., 1., 1., 1., 1., 1., 1.],\n",
              "       [1., 1., 1., 1., 1., 1., 1., 1., 1., 1.],\n",
              "       [1., 1., 1., 1., 1., 1., 1., 1., 1., 1.],\n",
              "       [1., 1., 1., 1., 1., 1., 1., 1., 1., 1.],\n",
              "       [1., 1., 1., 1., 1., 1., 1., 1., 1., 1.],\n",
              "       [1., 1., 1., 1., 1., 1., 1., 1., 1., 1.],\n",
              "       [1., 1., 1., 1., 1., 1., 1., 1., 1., 1.],\n",
              "       [1., 1., 1., 1., 1., 1., 1., 1., 1., 1.],\n",
              "       [1., 1., 1., 1., 1., 1., 1., 1., 1., 1.]])"
            ]
          },
          "metadata": {},
          "execution_count": 12
        }
      ]
    },
    {
      "cell_type": "code",
      "source": [
        "# Puedo crear distribuciones normales de datos planteando el inicio, el fin y cuantos datos quiero en mi vector con linspace\n",
        "np.linspace(0,100,10)"
      ],
      "metadata": {
        "colab": {
          "base_uri": "https://localhost:8080/"
        },
        "id": "gT9f5oz5S-As",
        "outputId": "adda83a3-9cab-44c1-f60d-d91f776aebcb"
      },
      "execution_count": 13,
      "outputs": [
        {
          "output_type": "execute_result",
          "data": {
            "text/plain": [
              "array([  0.        ,  11.11111111,  22.22222222,  33.33333333,\n",
              "        44.44444444,  55.55555556,  66.66666667,  77.77777778,\n",
              "        88.88888889, 100.        ])"
            ]
          },
          "metadata": {},
          "execution_count": 13
        }
      ]
    },
    {
      "cell_type": "code",
      "source": [
        "# Para los amantes del algebra podemos crear una matriz cuadrada de X dimensiones mediante el np.eye(X) donde la diagonal principal va a estar rellena de unos mientras el resto serán ceros\n",
        "np.eye(5)\n"
      ],
      "metadata": {
        "colab": {
          "base_uri": "https://localhost:8080/"
        },
        "id": "IgamZiRVTUrl",
        "outputId": "be08e3aa-2de7-4b14-9537-ba8897aafd9d"
      },
      "execution_count": 14,
      "outputs": [
        {
          "output_type": "execute_result",
          "data": {
            "text/plain": [
              "array([[1., 0., 0., 0., 0.],\n",
              "       [0., 1., 0., 0., 0.],\n",
              "       [0., 0., 1., 0., 0.],\n",
              "       [0., 0., 0., 1., 0.],\n",
              "       [0., 0., 0., 0., 1.]])"
            ]
          },
          "metadata": {},
          "execution_count": 14
        }
      ]
    },
    {
      "cell_type": "code",
      "source": [
        "# Tmb puedo crear escalares, vectores, matrices y tensores conformados de numeros aletorios mediante np.random.rand\n",
        "np.random.rand() #Escalar"
      ],
      "metadata": {
        "colab": {
          "base_uri": "https://localhost:8080/"
        },
        "id": "6Yp5AVpkTyfT",
        "outputId": "5999da80-a329-422b-bdad-2beed6250cc8"
      },
      "execution_count": 15,
      "outputs": [
        {
          "output_type": "execute_result",
          "data": {
            "text/plain": [
              "0.9983328364687793"
            ]
          },
          "metadata": {},
          "execution_count": 15
        }
      ]
    },
    {
      "cell_type": "code",
      "source": [
        "np.random.rand(5) #Vector de 5 escalares"
      ],
      "metadata": {
        "colab": {
          "base_uri": "https://localhost:8080/"
        },
        "id": "Eo6Kw34ZUCIC",
        "outputId": "40517908-7877-487e-f534-8decdcd640f5"
      },
      "execution_count": 16,
      "outputs": [
        {
          "output_type": "execute_result",
          "data": {
            "text/plain": [
              "array([0.81498151, 0.95295787, 0.53873117, 0.30320738, 0.35333306])"
            ]
          },
          "metadata": {},
          "execution_count": 16
        }
      ]
    },
    {
      "cell_type": "code",
      "source": [
        "np.random.rand(10,10) #Matriz cuadrada de 10x10"
      ],
      "metadata": {
        "colab": {
          "base_uri": "https://localhost:8080/"
        },
        "id": "RNw6068OUINr",
        "outputId": "500a525e-0001-4ce3-8d0a-ca984b01c5a0"
      },
      "execution_count": 17,
      "outputs": [
        {
          "output_type": "execute_result",
          "data": {
            "text/plain": [
              "array([[0.96537359, 0.82409694, 0.48693909, 0.62563372, 0.3883387 ,\n",
              "        0.84068688, 0.6654849 , 0.30983136, 0.89091087, 0.29680438],\n",
              "       [0.7346594 , 0.13506734, 0.83222861, 0.8306256 , 0.22612405,\n",
              "        0.41315246, 0.31027155, 0.14089035, 0.86395632, 0.71275379],\n",
              "       [0.64576992, 0.42574446, 0.04571647, 0.19663371, 0.3796517 ,\n",
              "        0.41779276, 0.02149206, 0.71143585, 0.11388421, 0.25213734],\n",
              "       [0.30823298, 0.16030408, 0.881826  , 0.67295834, 0.75411089,\n",
              "        0.40420586, 0.91454464, 0.12690747, 0.15534146, 0.18028582],\n",
              "       [0.94334598, 0.76758859, 0.69487774, 0.93380889, 0.54289475,\n",
              "        0.35182704, 0.70555969, 0.10982166, 0.16141938, 0.04763723],\n",
              "       [0.03538336, 0.69363984, 0.85811182, 0.66621285, 0.46833453,\n",
              "        0.36808472, 0.66800755, 0.08235566, 0.23996106, 0.64701117],\n",
              "       [0.34107469, 0.52647235, 0.14883806, 0.38644094, 0.89674487,\n",
              "        0.66957825, 0.87466694, 0.11422755, 0.78654809, 0.6199475 ],\n",
              "       [0.74107565, 0.1520118 , 0.7221614 , 0.91164495, 0.02030865,\n",
              "        0.605467  , 0.92680489, 0.42575343, 0.91152918, 0.14043053],\n",
              "       [0.96859295, 0.88373379, 0.08768542, 0.24456501, 0.29331837,\n",
              "        0.51000848, 0.13865577, 0.76630735, 0.06948529, 0.89522586],\n",
              "       [0.63680843, 0.44144524, 0.09838091, 0.13527561, 0.64283835,\n",
              "        0.8279804 , 0.88997741, 0.59270095, 0.19903262, 0.59079292]])"
            ]
          },
          "metadata": {},
          "execution_count": 17
        }
      ]
    },
    {
      "cell_type": "code",
      "source": [
        "np.random.rand(3,3,3) #Tensor de 3x3x3"
      ],
      "metadata": {
        "colab": {
          "base_uri": "https://localhost:8080/"
        },
        "id": "K1wrW3yZUQnD",
        "outputId": "53f4410a-da49-4662-b3af-5cb18724039e"
      },
      "execution_count": 18,
      "outputs": [
        {
          "output_type": "execute_result",
          "data": {
            "text/plain": [
              "array([[[0.04752185, 0.16880554, 0.6856794 ],\n",
              "        [0.75755731, 0.36495186, 0.75121741],\n",
              "        [0.45340626, 0.67607854, 0.50063427]],\n",
              "\n",
              "       [[0.66509064, 0.55095098, 0.55679665],\n",
              "        [0.31526918, 0.57001083, 0.1979552 ],\n",
              "        [0.53323543, 0.55037589, 0.42271254]],\n",
              "\n",
              "       [[0.86297422, 0.06757275, 0.45691571],\n",
              "        [0.13054077, 0.76635667, 0.44231728],\n",
              "        [0.83116002, 0.94434333, 0.63500023]]])"
            ]
          },
          "metadata": {},
          "execution_count": 18
        }
      ]
    },
    {
      "cell_type": "code",
      "source": [
        "# tmb puedo obtener enteros aleatorios entre un rango dado mediante np.random.randint\n",
        "np.random.randint(23,27) #Arroja un entero entre 1 y 15"
      ],
      "metadata": {
        "colab": {
          "base_uri": "https://localhost:8080/"
        },
        "id": "P6c-X5xuUhYE",
        "outputId": "7f635669-6306-4f37-971e-f018e45bd70c"
      },
      "execution_count": 27,
      "outputs": [
        {
          "output_type": "execute_result",
          "data": {
            "text/plain": [
              "24"
            ]
          },
          "metadata": {},
          "execution_count": 27
        }
      ]
    },
    {
      "cell_type": "code",
      "source": [
        "# tmb puedo completar una estructura algebraica de enteros con np.random.randint\n",
        "np.random.randint(1,100,(10,10)) #Devuelve una matriz de 10x10 con numeros entreros entre el 1 y 100 de forma aleatoria"
      ],
      "metadata": {
        "colab": {
          "base_uri": "https://localhost:8080/"
        },
        "id": "7hk2na69VAEE",
        "outputId": "ee04f244-b29c-4844-9661-e207e365c3cb"
      },
      "execution_count": 31,
      "outputs": [
        {
          "output_type": "execute_result",
          "data": {
            "text/plain": [
              "array([[63, 61, 97, 11, 52, 57, 11, 70, 98, 97],\n",
              "       [54, 47, 43,  2, 33, 52, 72, 54, 42, 38],\n",
              "       [20, 93, 85, 66, 50, 38, 18, 16, 40, 15],\n",
              "       [76, 51, 23, 13, 29, 32, 49, 65,  9, 11],\n",
              "       [22, 10, 23, 83, 65, 60, 10, 36, 68, 18],\n",
              "       [38, 47, 71, 81, 69, 97, 91, 11, 53, 99],\n",
              "       [58, 81, 54,  1, 94, 80,  9,  9, 41, 15],\n",
              "       [78, 72, 47, 34, 84, 97, 75, 24, 49, 65],\n",
              "       [62, 26, 67, 49, 28, 47, 19, 78, 20, 29],\n",
              "       [51, 67, 23, 81, 87, 63, 46, 17, 25, 68]])"
            ]
          },
          "metadata": {},
          "execution_count": 31
        }
      ]
    }
  ]
}